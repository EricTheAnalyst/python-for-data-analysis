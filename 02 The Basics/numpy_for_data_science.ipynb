{
 "cells": [
  {
   "cell_type": "markdown",
   "metadata": {},
   "source": [
    "# NumPy for Data Science ###\n",
    "\n",
    "This lecture is intended to give you the basics of NumPy needed for data science. \n"
   ]
  },
  {
   "cell_type": "markdown",
   "metadata": {},
   "source": [
    "NumPy is almost always imported as \"np.\" Importing a package as something else wasn't discussed in our Survival Python course. But it is really simple. Just import the package that you want, and then use the \"as\" keyword, followed by whatever you want to name the package.\n",
    "\n",
    "Here you can see we are importing numpy as np."
   ]
  },
  {
   "cell_type": "code",
   "execution_count": null,
   "metadata": {},
   "outputs": [],
   "source": [
    "import numpy as np"
   ]
  },
  {
   "cell_type": "markdown",
   "metadata": {},
   "source": [
    "Once NumPy is imported we have access to the whole slew of functionality that it includes.\n",
    "\n",
    "Checkout the NumPy documentation for all of the \n",
    "[NumPy Documentation](https://docs.scipy.org/doc/numpy/user/)"
   ]
  },
  {
   "cell_type": "markdown",
   "metadata": {},
   "source": [
    "The main thing we are looking at when we are using Numpy are called Arrays. Arrays are similar to standard Python lists, but have more than a few additional handy features. \n",
    "\n",
    "There are many ways to create a Numpy Array. They can be made full of zeros, by using the zeros function. "
   ]
  },
  {
   "cell_type": "code",
   "execution_count": 10,
   "metadata": {},
   "outputs": [
    {
     "name": "stdout",
     "output_type": "stream",
     "text": [
      "Type: <class 'numpy.ndarray'>\n",
      "[0. 0. 0. 0. 0.]\n"
     ]
    }
   ],
   "source": [
    "zeros_array = np.zeros(5)\n",
    "print('Type: {}'.format(type(zeros_array)))\n",
    "print(zeros_array)"
   ]
  },
  {
   "cell_type": "markdown",
   "metadata": {},
   "source": [
    "They can be made full of ones, using the ones function."
   ]
  },
  {
   "cell_type": "code",
   "execution_count": 11,
   "metadata": {},
   "outputs": [
    {
     "name": "stdout",
     "output_type": "stream",
     "text": [
      "Type: <class 'numpy.ndarray'>\n",
      "[1. 1. 1. 1. 1.]\n"
     ]
    }
   ],
   "source": [
    "ones_array = np.ones(5)\n",
    "print('Type: {}'.format(type(ones_array)))\n",
    "print(ones_array)"
   ]
  },
  {
   "cell_type": "markdown",
   "metadata": {},
   "source": [
    "Notice that in both of these cases the items within the NumPy array have decimal places. This suggests that the data types of the individual items are floats. Lets check to be sure"
   ]
  },
  {
   "cell_type": "code",
   "execution_count": 18,
   "metadata": {
    "scrolled": true
   },
   "outputs": [
    {
     "name": "stdout",
     "output_type": "stream",
     "text": [
      "<class 'numpy.float64'>\n",
      "<class 'numpy.float64'>\n"
     ]
    }
   ],
   "source": [
    "zeros_array = np.zeros(5)\n",
    "print(type(zeros_array[0]))\n",
    "ones_array = np.ones(5)\n",
    "print(type(ones_array[0]))"
   ]
  },
  {
   "cell_type": "markdown",
   "metadata": {},
   "source": [
    "As we suspected, the individual items were infact, floats.\n",
    "\n",
    "Numpy Arrays are handy for dealing with data sets that are multi dimmensional. Here we are creating a two dimmensional array.  "
   ]
  },
  {
   "cell_type": "code",
   "execution_count": 24,
   "metadata": {},
   "outputs": [
    {
     "name": "stdout",
     "output_type": "stream",
     "text": [
      "Two Dimmensional Array:\n",
      "[[0. 0. 0. 0. 0.]\n",
      " [1. 1. 1. 1. 1.]]\n",
      "\n",
      "Shape of Two Dimmensional Array:\n",
      "(2, 5)\n"
     ]
    }
   ],
   "source": [
    "two_dimmensions = np.array([np.zeros(5), np.ones(5)])\n",
    "print('Two Dimmensional Array:\\n{}\\n'.format(two_dimmensions))\n",
    "print('Shape of Two Dimmensional Array:\\n{}'.format(two_dimmensions.shape))"
   ]
  },
  {
   "cell_type": "code",
   "execution_count": 25,
   "metadata": {},
   "outputs": [
    {
     "name": "stdout",
     "output_type": "stream",
     "text": [
      "Two Dimmensional Array:\n",
      "[[0. 0.]\n",
      " [0. 0.]\n",
      " [0. 1.]\n",
      " [1. 1.]\n",
      " [1. 1.]]\n",
      "\n"
     ]
    }
   ],
   "source": [
    "two_dimmensions.shape = (5, 2)\n",
    "print('Two Dimmensional Array:\\n{}\\n'.format(two_dimmensions))"
   ]
  },
  {
   "cell_type": "code",
   "execution_count": null,
   "metadata": {},
   "outputs": [],
   "source": [
    "with open('flights.csv', 'r') as f:\n",
    "    for n, line in enumerate(f.readlines()):\n",
    "        if n > 5:\n",
    "            break\n",
    "        print(line)"
   ]
  },
  {
   "cell_type": "markdown",
   "metadata": {},
   "source": [
    "This is great! We can read in the data from a file and manipulate it. Let's take a look at how we might do this."
   ]
  },
  {
   "cell_type": "code",
   "execution_count": null,
   "metadata": {},
   "outputs": [],
   "source": [
    "data = []\n",
    "with open('flights.csv', 'r') as f:\n",
    "    for n, line in enumerate(f.readlines()):\n",
    "        if n > 5:\n",
    "            break\n",
    "        if n == 0:\n",
    "            header = line.split(',')\n",
    "            for i, title in enumerate(header):\n",
    "                print(i, title)\n",
    "        else:\n",
    "            separated = line.split(',')\n",
    "            data.append(separated)\n",
    "            print(separated)"
   ]
  },
  {
   "cell_type": "markdown",
   "metadata": {},
   "source": [
    "So we could pull i"
   ]
  },
  {
   "cell_type": "code",
   "execution_count": null,
   "metadata": {},
   "outputs": [],
   "source": []
  }
 ],
 "metadata": {
  "celltoolbar": "Edit Metadata",
  "kernelspec": {
   "display_name": "Python 3",
   "language": "python",
   "name": "python3"
  },
  "language_info": {
   "codemirror_mode": {
    "name": "ipython",
    "version": 3
   },
   "file_extension": ".py",
   "mimetype": "text/x-python",
   "name": "python",
   "nbconvert_exporter": "python",
   "pygments_lexer": "ipython3",
   "version": "3.6.9"
  }
 },
 "nbformat": 4,
 "nbformat_minor": 4
}
