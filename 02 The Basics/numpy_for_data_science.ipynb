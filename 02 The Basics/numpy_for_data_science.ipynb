{
 "cells": [
  {
   "cell_type": "markdown",
   "metadata": {},
   "source": [
    "# Numpy for Data Science ###\n",
    "\n",
    "This lecture is intended to give you the basics of numpy needed for data science. \n"
   ]
  },
  {
   "cell_type": "markdown",
   "metadata": {},
   "source": [
    "Numpy is almost always imported as \"np.\" Importing a package as something else wasn't discussed in our Survival Python course. But it is really simple. Just import the package that you want, and then use the \"as\" keyword, followed by whatever you want to name the package.\n",
    "\n",
    "Here you can see we are importing numpy as np."
   ]
  },
  {
   "cell_type": "code",
   "execution_count": null,
   "metadata": {},
   "outputs": [],
   "source": [
    "import numpy as np"
   ]
  },
  {
   "cell_type": "code",
   "execution_count": 1,
   "metadata": {},
   "outputs": [
    {
     "name": "stdout",
     "output_type": "stream",
     "text": [
      "year,month,day,dep_time,sched_dep_time,dep_delay,arr_time,sched_arr_time,arr_delay,carrier,flight,tailnum,origin,dest,air_time,distance,hour,minute,time_hour\n",
      "\n",
      "2013,1,1,517,515,2,830,819,11,UA,1545,N14228,EWR,IAH,227,1400,5,15,2013-01-01T05:00:00Z\n",
      "\n",
      "2013,1,1,533,529,4,850,830,20,UA,1714,N24211,LGA,IAH,227,1416,5,29,2013-01-01T05:00:00Z\n",
      "\n",
      "2013,1,1,542,540,2,923,850,33,AA,1141,N619AA,JFK,MIA,160,1089,5,40,2013-01-01T05:00:00Z\n",
      "\n",
      "2013,1,1,544,545,-1,1004,1022,-18,B6,725,N804JB,JFK,BQN,183,1576,5,45,2013-01-01T05:00:00Z\n",
      "\n",
      "2013,1,1,554,600,-6,812,837,-25,DL,461,N668DN,LGA,ATL,116,762,6,0,2013-01-01T06:00:00Z\n",
      "\n"
     ]
    }
   ],
   "source": [
    "with open('flights.csv', 'r') as f:\n",
    "    for n, line in enumerate(f.readlines()):\n",
    "        if n > 5:\n",
    "            break\n",
    "        print(line)"
   ]
  },
  {
   "cell_type": "markdown",
   "metadata": {},
   "source": [
    "This is great! We can read in the data from a file and manipulate it. Let's take a look at how we might do this."
   ]
  },
  {
   "cell_type": "code",
   "execution_count": 5,
   "metadata": {
    "collapsed": true
   },
   "outputs": [
    {
     "name": "stdout",
     "output_type": "stream",
     "text": [
      "0 year\n",
      "1 month\n",
      "2 day\n",
      "3 dep_time\n",
      "4 sched_dep_time\n",
      "5 dep_delay\n",
      "6 arr_time\n",
      "7 sched_arr_time\n",
      "8 arr_delay\n",
      "9 carrier\n",
      "10 flight\n",
      "11 tailnum\n",
      "12 origin\n",
      "13 dest\n",
      "14 air_time\n",
      "15 distance\n",
      "16 hour\n",
      "17 minute\n",
      "18 time_hour\n",
      "\n",
      "['2013', '1', '1', '517', '515', '2', '830', '819', '11', 'UA', '1545', 'N14228', 'EWR', 'IAH', '227', '1400', '5', '15', '2013-01-01T05:00:00Z\\n']\n",
      "['2013', '1', '1', '533', '529', '4', '850', '830', '20', 'UA', '1714', 'N24211', 'LGA', 'IAH', '227', '1416', '5', '29', '2013-01-01T05:00:00Z\\n']\n",
      "['2013', '1', '1', '542', '540', '2', '923', '850', '33', 'AA', '1141', 'N619AA', 'JFK', 'MIA', '160', '1089', '5', '40', '2013-01-01T05:00:00Z\\n']\n",
      "['2013', '1', '1', '544', '545', '-1', '1004', '1022', '-18', 'B6', '725', 'N804JB', 'JFK', 'BQN', '183', '1576', '5', '45', '2013-01-01T05:00:00Z\\n']\n",
      "['2013', '1', '1', '554', '600', '-6', '812', '837', '-25', 'DL', '461', 'N668DN', 'LGA', 'ATL', '116', '762', '6', '0', '2013-01-01T06:00:00Z\\n']\n"
     ]
    }
   ],
   "source": [
    "data = []\n",
    "with open('flights.csv', 'r') as f:\n",
    "    for n, line in enumerate(f.readlines()):\n",
    "        if n > 5:\n",
    "            break\n",
    "        if n == 0:\n",
    "            header = line.split(',')\n",
    "            for i, title in enumerate(header):\n",
    "                print(i, title)\n",
    "        else:\n",
    "            separated = line.split(',')\n",
    "            data.append(separated)\n",
    "            print(separated)"
   ]
  },
  {
   "cell_type": "markdown",
   "metadata": {},
   "source": [
    "So we could pull i"
   ]
  },
  {
   "cell_type": "code",
   "execution_count": null,
   "metadata": {},
   "outputs": [],
   "source": []
  }
 ],
 "metadata": {
  "celltoolbar": "Edit Metadata",
  "kernelspec": {
   "display_name": "Python 3",
   "language": "python",
   "name": "python3"
  },
  "language_info": {
   "codemirror_mode": {
    "name": "ipython",
    "version": 3
   },
   "file_extension": ".py",
   "mimetype": "text/x-python",
   "name": "python",
   "nbconvert_exporter": "python",
   "pygments_lexer": "ipython3",
   "version": "3.6.9"
  }
 },
 "nbformat": 4,
 "nbformat_minor": 4
}
