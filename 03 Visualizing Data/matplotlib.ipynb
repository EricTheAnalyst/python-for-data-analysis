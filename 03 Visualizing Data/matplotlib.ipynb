{
 "cells": [
  {
   "cell_type": "code",
   "execution_count": null,
   "metadata": {},
   "outputs": [],
   "source": [
    "import matplotlib.pyplot as plt\n",
    "print(plt)"
   ]
  },
  {
   "cell_type": "code",
   "execution_count": null,
   "metadata": {},
   "outputs": [],
   "source": [
    "import numpy as np\n",
    "x = np.linspace(0, 2*np.pi, 20)\n",
    "y = np.sin(x)\n",
    "plt.plot(x,y)\n",
    "plt.show()"
   ]
  },
  {
   "cell_type": "code",
   "execution_count": null,
   "metadata": {},
   "outputs": [],
   "source": [
    "plt.title('Sin from 0 to 2*pi')\n",
    "plt.plot(x,y)\n",
    "plt.show()"
   ]
  },
  {
   "cell_type": "code",
   "execution_count": null,
   "metadata": {},
   "outputs": [],
   "source": [
    "plt.title('Sin from 0 to 2*pi')\n",
    "plt.xlabel('Input')\n",
    "plt.ylabel('Output')\n",
    "plt.plot(x,y)\n",
    "plt.show()"
   ]
  },
  {
   "cell_type": "code",
   "execution_count": null,
   "metadata": {},
   "outputs": [],
   "source": [
    "y2 = np.cos(x)\n",
    "plt.title('Sin and Cos from 0 to 2*pi')\n",
    "plt.xlabel('Input')\n",
    "plt.ylabel('Output')\n",
    "plt.plot(x, y)\n",
    "plt.plot(x, y2)\n",
    "plt.show()"
   ]
  },
  {
   "cell_type": "code",
   "execution_count": null,
   "metadata": {},
   "outputs": [],
   "source": [
    "plt.title('Sin and Cos from 0 to 2*pi')\n",
    "plt.xlabel('Input')\n",
    "plt.ylabel('Output')\n",
    "plt.plot(x, y, label='sine')\n",
    "plt.plot(x, y2, label='cosine')\n",
    "plt.legend()\n",
    "plt.show()"
   ]
  },
  {
   "cell_type": "code",
   "execution_count": null,
   "metadata": {},
   "outputs": [],
   "source": [
    "plt.title('Minus Sin and Minus Cos from 0 to 2*pi')\n",
    "plt.xlabel('Input')\n",
    "plt.ylabel('Output')\n",
    "plt.plot(x, -y, label='sine')\n",
    "plt.plot(x, -y2, label='cosine')\n",
    "plt.legend()\n",
    "plt.show()"
   ]
  },
  {
   "cell_type": "code",
   "execution_count": null,
   "metadata": {},
   "outputs": [],
   "source": [
    "plt.title('Sin and Cos from 0 to 2*pi')\n",
    "plt.xlabel('Input')\n",
    "plt.ylabel('Output')\n",
    "plt.plot(x, -y, label='sine')\n",
    "plt.plot(x, -y2, label='cosine')\n",
    "plt.legend(loc='lower center')\n",
    "plt.show()"
   ]
  },
  {
   "cell_type": "code",
   "execution_count": null,
   "metadata": {},
   "outputs": [],
   "source": [
    "plt.subplot(2, 1, 1)\n",
    "plt.title('Sin and Cos from 0 to 2*pi')\n",
    "plt.ylabel('Sin')\n",
    "plt.plot(x, y)\n",
    "\n",
    "plt.subplot(2, 1, 2)\n",
    "plt.ylabel('Cos')\n",
    "plt.plot(x, y2)\n",
    "plt.show()"
   ]
  },
  {
   "cell_type": "markdown",
   "metadata": {},
   "source": [
    "**Markers** -  https://matplotlib.org/api/markers_api.html#module-matplotlib.markers\n",
    "\n",
    "**Colors** - https://matplotlib.org/api/_as_gen/matplotlib.pyplot.colors.html"
   ]
  },
  {
   "cell_type": "code",
   "execution_count": null,
   "metadata": {},
   "outputs": [],
   "source": [
    "plt.title('Minus Sin and Minus Cos from 0 to 2*pi')\n",
    "plt.xlabel('Input')\n",
    "plt.ylabel('Output')\n",
    "plt.plot(x, -y, 'ro', label='sine')\n",
    "plt.plot(x, -y2, label='cosine')\n",
    "plt.legend()\n",
    "plt.show()"
   ]
  },
  {
   "cell_type": "code",
   "execution_count": null,
   "metadata": {},
   "outputs": [],
   "source": [
    "plt.title('Minus Sin and Minus Cos from 0 to 2*pi')\n",
    "plt.xlabel('Input')\n",
    "plt.ylabel('Output')\n",
    "plt.plot(x, -y, 'ro', label='sine')\n",
    "plt.plot(x, -y2, marker='^', color='g', label='cosine', linewidth=0)\n",
    "plt.legend()\n",
    "plt.show()"
   ]
  },
  {
   "cell_type": "code",
   "execution_count": null,
   "metadata": {},
   "outputs": [],
   "source": [
    "import pandas as pd\n",
    "df = pd.read_csv('/home/martin/datasets/flights.csv')\n",
    "df.head()"
   ]
  },
  {
   "cell_type": "code",
   "execution_count": null,
   "metadata": {},
   "outputs": [],
   "source": [
    "plt.hist(df['dep_delay'], bins=30)\n",
    "plt.show()"
   ]
  },
  {
   "cell_type": "code",
   "execution_count": null,
   "metadata": {},
   "outputs": [],
   "source": [
    "plt.hist(df['dep_delay'], bins=30)\n",
    "plt.yscale('log')\n",
    "plt.show()"
   ]
  },
  {
   "cell_type": "markdown",
   "metadata": {},
   "source": [
    "**Matplotlib Documentation:** - https://matplotlib.org/contents.html\n",
    "\n",
    "**Matplotlib offical Tutorials:** - https://matplotlib.org/tutorials/"
   ]
  }
 ],
 "metadata": {
  "kernelspec": {
   "display_name": "Python 3",
   "language": "python",
   "name": "python3"
  },
  "language_info": {
   "codemirror_mode": {
    "name": "ipython",
    "version": 3
   },
   "file_extension": ".py",
   "mimetype": "text/x-python",
   "name": "python",
   "nbconvert_exporter": "python",
   "pygments_lexer": "ipython3",
   "version": "3.6.9"
  }
 },
 "nbformat": 4,
 "nbformat_minor": 4
}
